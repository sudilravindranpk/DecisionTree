{
 "cells": [
  {
   "cell_type": "code",
   "execution_count": 1,
   "metadata": {},
   "outputs": [],
   "source": [
    "import pandas as pd\n",
    "import numpy as np\n",
    "from pprint import pprint"
   ]
  },
  {
   "cell_type": "code",
   "execution_count": 2,
   "metadata": {},
   "outputs": [],
   "source": [
    "data = [['Orange', 'big','Orange','sweet','Yes'], \n",
    "        ['Apple', 'big','Red-Brown','sweet','Yes'],   \n",
    "        ['Orange', 'big','Orange','sweet','Yes'], \n",
    "        ['Apple', 'big','Red-Brown','sweet','Yes'],  \n",
    "        ['Orange', 'big','Orange','sweet','Yes'], \n",
    "        ['Apple', 'big','Red-Brown','sweet','Yes'],   \n",
    "        ['Orange', 'big','Orange','sweet','Yes'],\n",
    "        ['Apple', 'big','Red-Brown','sweet','Yes'],\n",
    "        ['Grape', 'small','Red-Brown','sour','Yes'],\n",
    "        ['Grape', 'small','Red-Brown','sour','Yes'],\n",
    "        ['Grape', 'small','Red-Brown','sweet','Yes'],\n",
    "        ['Grape', 'small','Orange','sweet','No'],\n",
    "        ['Grape', 'small','Orange','sweet','No'],\n",
    "        ['lemon', 'medium','Red-Brown','sour','No'],\n",
    "        ['lemon', 'medium','Red-Brown','sour','No'],\n",
    "        ['lemon', 'medium','Red-Brown','sour','No'],\n",
    "        ['lemon', 'medium','Red-Brown','sour','No']] \n",
    "  \n",
    "df = pd.DataFrame(data, columns = ['fruit','size', 'color','taste','eat']) "
   ]
  },
  {
   "cell_type": "code",
   "execution_count": 3,
   "metadata": {},
   "outputs": [
    {
     "data": {
      "text/html": [
       "<div>\n",
       "<style scoped>\n",
       "    .dataframe tbody tr th:only-of-type {\n",
       "        vertical-align: middle;\n",
       "    }\n",
       "\n",
       "    .dataframe tbody tr th {\n",
       "        vertical-align: top;\n",
       "    }\n",
       "\n",
       "    .dataframe thead th {\n",
       "        text-align: right;\n",
       "    }\n",
       "</style>\n",
       "<table border=\"1\" class=\"dataframe\">\n",
       "  <thead>\n",
       "    <tr style=\"text-align: right;\">\n",
       "      <th></th>\n",
       "      <th>fruit</th>\n",
       "      <th>size</th>\n",
       "      <th>color</th>\n",
       "      <th>taste</th>\n",
       "      <th>eat</th>\n",
       "    </tr>\n",
       "  </thead>\n",
       "  <tbody>\n",
       "    <tr>\n",
       "      <th>0</th>\n",
       "      <td>Orange</td>\n",
       "      <td>big</td>\n",
       "      <td>Orange</td>\n",
       "      <td>sweet</td>\n",
       "      <td>Yes</td>\n",
       "    </tr>\n",
       "    <tr>\n",
       "      <th>1</th>\n",
       "      <td>Apple</td>\n",
       "      <td>big</td>\n",
       "      <td>Red-Brown</td>\n",
       "      <td>sweet</td>\n",
       "      <td>Yes</td>\n",
       "    </tr>\n",
       "    <tr>\n",
       "      <th>2</th>\n",
       "      <td>Orange</td>\n",
       "      <td>big</td>\n",
       "      <td>Orange</td>\n",
       "      <td>sweet</td>\n",
       "      <td>Yes</td>\n",
       "    </tr>\n",
       "    <tr>\n",
       "      <th>3</th>\n",
       "      <td>Apple</td>\n",
       "      <td>big</td>\n",
       "      <td>Red-Brown</td>\n",
       "      <td>sweet</td>\n",
       "      <td>Yes</td>\n",
       "    </tr>\n",
       "    <tr>\n",
       "      <th>4</th>\n",
       "      <td>Orange</td>\n",
       "      <td>big</td>\n",
       "      <td>Orange</td>\n",
       "      <td>sweet</td>\n",
       "      <td>Yes</td>\n",
       "    </tr>\n",
       "    <tr>\n",
       "      <th>5</th>\n",
       "      <td>Apple</td>\n",
       "      <td>big</td>\n",
       "      <td>Red-Brown</td>\n",
       "      <td>sweet</td>\n",
       "      <td>Yes</td>\n",
       "    </tr>\n",
       "    <tr>\n",
       "      <th>6</th>\n",
       "      <td>Orange</td>\n",
       "      <td>big</td>\n",
       "      <td>Orange</td>\n",
       "      <td>sweet</td>\n",
       "      <td>Yes</td>\n",
       "    </tr>\n",
       "    <tr>\n",
       "      <th>7</th>\n",
       "      <td>Apple</td>\n",
       "      <td>big</td>\n",
       "      <td>Red-Brown</td>\n",
       "      <td>sweet</td>\n",
       "      <td>Yes</td>\n",
       "    </tr>\n",
       "    <tr>\n",
       "      <th>8</th>\n",
       "      <td>Grape</td>\n",
       "      <td>small</td>\n",
       "      <td>Red-Brown</td>\n",
       "      <td>sour</td>\n",
       "      <td>Yes</td>\n",
       "    </tr>\n",
       "    <tr>\n",
       "      <th>9</th>\n",
       "      <td>Grape</td>\n",
       "      <td>small</td>\n",
       "      <td>Red-Brown</td>\n",
       "      <td>sour</td>\n",
       "      <td>Yes</td>\n",
       "    </tr>\n",
       "    <tr>\n",
       "      <th>10</th>\n",
       "      <td>Grape</td>\n",
       "      <td>small</td>\n",
       "      <td>Red-Brown</td>\n",
       "      <td>sweet</td>\n",
       "      <td>Yes</td>\n",
       "    </tr>\n",
       "    <tr>\n",
       "      <th>11</th>\n",
       "      <td>Grape</td>\n",
       "      <td>small</td>\n",
       "      <td>Orange</td>\n",
       "      <td>sweet</td>\n",
       "      <td>No</td>\n",
       "    </tr>\n",
       "    <tr>\n",
       "      <th>12</th>\n",
       "      <td>Grape</td>\n",
       "      <td>small</td>\n",
       "      <td>Orange</td>\n",
       "      <td>sweet</td>\n",
       "      <td>No</td>\n",
       "    </tr>\n",
       "    <tr>\n",
       "      <th>13</th>\n",
       "      <td>lemon</td>\n",
       "      <td>medium</td>\n",
       "      <td>Red-Brown</td>\n",
       "      <td>sour</td>\n",
       "      <td>No</td>\n",
       "    </tr>\n",
       "    <tr>\n",
       "      <th>14</th>\n",
       "      <td>lemon</td>\n",
       "      <td>medium</td>\n",
       "      <td>Red-Brown</td>\n",
       "      <td>sour</td>\n",
       "      <td>No</td>\n",
       "    </tr>\n",
       "    <tr>\n",
       "      <th>15</th>\n",
       "      <td>lemon</td>\n",
       "      <td>medium</td>\n",
       "      <td>Red-Brown</td>\n",
       "      <td>sour</td>\n",
       "      <td>No</td>\n",
       "    </tr>\n",
       "    <tr>\n",
       "      <th>16</th>\n",
       "      <td>lemon</td>\n",
       "      <td>medium</td>\n",
       "      <td>Red-Brown</td>\n",
       "      <td>sour</td>\n",
       "      <td>No</td>\n",
       "    </tr>\n",
       "  </tbody>\n",
       "</table>\n",
       "</div>"
      ],
      "text/plain": [
       "     fruit    size      color  taste  eat\n",
       "0   Orange     big     Orange  sweet  Yes\n",
       "1    Apple     big  Red-Brown  sweet  Yes\n",
       "2   Orange     big     Orange  sweet  Yes\n",
       "3    Apple     big  Red-Brown  sweet  Yes\n",
       "4   Orange     big     Orange  sweet  Yes\n",
       "5    Apple     big  Red-Brown  sweet  Yes\n",
       "6   Orange     big     Orange  sweet  Yes\n",
       "7    Apple     big  Red-Brown  sweet  Yes\n",
       "8    Grape   small  Red-Brown   sour  Yes\n",
       "9    Grape   small  Red-Brown   sour  Yes\n",
       "10   Grape   small  Red-Brown  sweet  Yes\n",
       "11   Grape   small     Orange  sweet   No\n",
       "12   Grape   small     Orange  sweet   No\n",
       "13   lemon  medium  Red-Brown   sour   No\n",
       "14   lemon  medium  Red-Brown   sour   No\n",
       "15   lemon  medium  Red-Brown   sour   No\n",
       "16   lemon  medium  Red-Brown   sour   No"
      ]
     },
     "execution_count": 3,
     "metadata": {},
     "output_type": "execute_result"
    }
   ],
   "source": [
    "df"
   ]
  },
  {
   "cell_type": "code",
   "execution_count": 4,
   "metadata": {},
   "outputs": [
    {
     "data": {
      "text/html": [
       "<div>\n",
       "<style scoped>\n",
       "    .dataframe tbody tr th:only-of-type {\n",
       "        vertical-align: middle;\n",
       "    }\n",
       "\n",
       "    .dataframe tbody tr th {\n",
       "        vertical-align: top;\n",
       "    }\n",
       "\n",
       "    .dataframe thead th {\n",
       "        text-align: right;\n",
       "    }\n",
       "</style>\n",
       "<table border=\"1\" class=\"dataframe\">\n",
       "  <thead>\n",
       "    <tr style=\"text-align: right;\">\n",
       "      <th></th>\n",
       "      <th>fruit</th>\n",
       "      <th>size</th>\n",
       "      <th>color</th>\n",
       "      <th>taste</th>\n",
       "      <th>eat</th>\n",
       "    </tr>\n",
       "  </thead>\n",
       "  <tbody>\n",
       "    <tr>\n",
       "      <th>count</th>\n",
       "      <td>17</td>\n",
       "      <td>17</td>\n",
       "      <td>17</td>\n",
       "      <td>17</td>\n",
       "      <td>17</td>\n",
       "    </tr>\n",
       "    <tr>\n",
       "      <th>unique</th>\n",
       "      <td>4</td>\n",
       "      <td>3</td>\n",
       "      <td>2</td>\n",
       "      <td>2</td>\n",
       "      <td>2</td>\n",
       "    </tr>\n",
       "    <tr>\n",
       "      <th>top</th>\n",
       "      <td>Grape</td>\n",
       "      <td>big</td>\n",
       "      <td>Red-Brown</td>\n",
       "      <td>sweet</td>\n",
       "      <td>Yes</td>\n",
       "    </tr>\n",
       "    <tr>\n",
       "      <th>freq</th>\n",
       "      <td>5</td>\n",
       "      <td>8</td>\n",
       "      <td>11</td>\n",
       "      <td>11</td>\n",
       "      <td>11</td>\n",
       "    </tr>\n",
       "  </tbody>\n",
       "</table>\n",
       "</div>"
      ],
      "text/plain": [
       "        fruit size      color  taste  eat\n",
       "count      17   17         17     17   17\n",
       "unique      4    3          2      2    2\n",
       "top     Grape  big  Red-Brown  sweet  Yes\n",
       "freq        5    8         11     11   11"
      ]
     },
     "execution_count": 4,
     "metadata": {},
     "output_type": "execute_result"
    }
   ],
   "source": [
    "df.describe()"
   ]
  },
  {
   "cell_type": "code",
   "execution_count": 5,
   "metadata": {},
   "outputs": [],
   "source": [
    "# dropping the fruit name column as i dont want to descriminate any fruit , if you want you can consider this column  as well\n",
    "\n",
    "dataset=df.drop('fruit',axis=1)"
   ]
  },
  {
   "cell_type": "code",
   "execution_count": 6,
   "metadata": {},
   "outputs": [],
   "source": [
    "# entropy function  -plogp -qlogq  \n",
    "\n",
    "def entropy(target_col):\n",
    "    elements,counts = np.unique(target_col,return_counts = True)\n",
    "    entropy = np.sum([(-counts[i]/np.sum(counts))*np.log2(counts[i]/np.sum(counts)) for i in range(len(elements))])\n",
    "    return entropy"
   ]
  },
  {
   "cell_type": "code",
   "execution_count": 7,
   "metadata": {},
   "outputs": [
    {
     "data": {
      "text/plain": [
       "0.9366673818775626"
      ]
     },
     "execution_count": 7,
     "metadata": {},
     "output_type": "execute_result"
    }
   ],
   "source": [
    "# lets see the entropy of the class(depenednt variable) eat\n",
    "\n",
    "total_entropy_for_decision_eat =entropy(dataset['eat'])\n",
    "total_entropy_for_decision_eat"
   ]
  },
  {
   "cell_type": "code",
   "execution_count": 8,
   "metadata": {},
   "outputs": [
    {
     "name": "stdout",
     "output_type": "stream",
     "text": [
      "entropy for taste :0.7667175174327292\n",
      "information gain for taste :0.1699498644448334\n"
     ]
    }
   ],
   "source": [
    "#lets calculate the entropy and information gain of other features\n",
    "\n",
    "sweetCount = dataset[dataset['taste']==\"sweet\"][\"eat\"].count()\n",
    "SweetCountWeightedAverage = sweetCount/dataset[\"eat\"].count()\n",
    "\n",
    "\n",
    "sourCount = dataset[dataset['taste']==\"sour\"][\"eat\"].count()\n",
    "SourCountWeightedAverage = sourCount/dataset[\"eat\"].count()\n",
    "\n",
    "\n",
    "total_entropy_for_taste =SweetCountWeightedAverage * entropy(dataset[dataset['taste']==\"sweet\"][\"eat\"])+SourCountWeightedAverage * entropy(dataset[dataset['taste']==\"sour\"][\"eat\"])\n",
    "print(\"entropy for taste :{0}\".format(total_entropy_for_taste))\n",
    "\n",
    "informationGainForTaste= total_entropy_for_decision_eat - total_entropy_for_taste\n",
    "print(\"information gain for taste :{0}\".format(informationGainForTaste))"
   ]
  },
  {
   "cell_type": "code",
   "execution_count": null,
   "metadata": {},
   "outputs": [],
   "source": [
    "#lets genaralizing the above\n",
    "#lets calculate the information gain"
   ]
  },
  {
   "cell_type": "code",
   "execution_count": 9,
   "metadata": {},
   "outputs": [],
   "source": [
    "def getInformationGain(currentColumn, targetColumn):\n",
    "    elements,counts = np.unique(dataset[currentColumn],return_counts = True)\n",
    "    totalEntropyForCurrentColumn= np.sum([(counts[i]/np.sum(counts))*entropy(dataset[dataset[currentColumn]==elements[i]][targetColumn]) for i in range(len(elements))])\n",
    "    return entropy(dataset[targetColumn]) - totalEntropyForCurrentColumn    "
   ]
  },
  {
   "cell_type": "code",
   "execution_count": 10,
   "metadata": {},
   "outputs": [
    {
     "name": "stdout",
     "output_type": "stream",
     "text": [
      "information gain for taste :0.1699498644448334\n",
      "information gain for colorIndex :0.0006651257049756776\n",
      "information gain for size :0.6510936776261895\n"
     ]
    }
   ],
   "source": [
    "print(\"information gain for taste :{0}\".format(getInformationGain(\"taste\",\"eat\")))\n",
    "print(\"information gain for colorIndex :{0}\".format(getInformationGain(\"color\",\"eat\")))\n",
    "print(\"information gain for size :{0}\".format(getInformationGain(\"size\",\"eat\")))"
   ]
  },
  {
   "cell_type": "code",
   "execution_count": 190,
   "metadata": {},
   "outputs": [],
   "source": [
    "# in the above case we got highest information gain on the column size, so it will become the root node\n",
    "# root node can be split into number of child nodes matching to distinct fields inside the root node columns\n",
    "# to make a tree from root node we need a queue"
   ]
  },
  {
   "cell_type": "code",
   "execution_count": 11,
   "metadata": {},
   "outputs": [],
   "source": [
    "#generalize the above information gain code\n",
    "\n",
    "def getHighestInformationGainColumn(targetColumn,features):\n",
    "    ig=0\n",
    "    column=None\n",
    "    for i in features:\n",
    "        newIg= getInformationGain(i,targetColumn)\n",
    "        if(newIg>ig):\n",
    "            ig=newIg\n",
    "            column=i\n",
    "    return column"
   ]
  },
  {
   "cell_type": "code",
   "execution_count": 13,
   "metadata": {},
   "outputs": [
    {
     "data": {
      "text/plain": [
       "'size'"
      ]
     },
     "execution_count": 13,
     "metadata": {},
     "output_type": "execute_result"
    }
   ],
   "source": [
    "getHighestInformationGainColumn('eat',['taste','color','size'])"
   ]
  },
  {
   "cell_type": "code",
   "execution_count": 17,
   "metadata": {},
   "outputs": [],
   "source": [
    "# create Tree recursively\n",
    "\n",
    "def createTree(data,originaldata,features,targetColumn,parent_node=None):\n",
    "    if len(np.unique(data[targetColumn])) <= 1:\n",
    "        return np.unique(data[targetColumn])[0]\n",
    "    elif len(data)==0:\n",
    "        return np.unique(originaldata[targetColumn])[np.argmax(np.unique(originaldata[targetColumn],return_counts=True)[1])]\n",
    "    elif len(features) ==0:\n",
    "        return parent_node\n",
    "    else: \n",
    "        parent_node = np.unique(data[targetColumn])[np.argmax(np.unique(data[targetColumn],return_counts=True)[1])]\n",
    "        bestFeature= getHighestInformationGainColumn(targetColumn,features)   \n",
    "        tree = {bestFeature:{}}\n",
    "        features = [i for i in features if i != bestFeature]\n",
    "        for value in np.unique(data[bestFeature]):   \n",
    "                newData = data.where(data[bestFeature] == value).dropna()         \n",
    "                subtree = createTree(newData,originaldata,features,targetColumn,parent_node)         \n",
    "                tree[bestFeature][value] = subtree            \n",
    "        return(tree)  "
   ]
  },
  {
   "cell_type": "code",
   "execution_count": 18,
   "metadata": {},
   "outputs": [],
   "source": [
    "tree=createTree(dataset,dataset,dataset.columns[:-1],\"eat\")"
   ]
  },
  {
   "cell_type": "code",
   "execution_count": 19,
   "metadata": {},
   "outputs": [
    {
     "data": {
      "text/plain": [
       "{'size': {'big': 'Yes',\n",
       "  'medium': 'No',\n",
       "  'small': {'taste': {'sour': 'Yes',\n",
       "    'sweet': {'color': {'Orange': 'No', 'Red-Brown': 'Yes'}}}}}}"
      ]
     },
     "execution_count": 19,
     "metadata": {},
     "output_type": "execute_result"
    }
   ],
   "source": [
    "tree"
   ]
  },
  {
   "cell_type": "code",
   "execution_count": null,
   "metadata": {},
   "outputs": [],
   "source": []
  }
 ],
 "metadata": {
  "kernelspec": {
   "display_name": "Python 3",
   "language": "python",
   "name": "python3"
  },
  "language_info": {
   "codemirror_mode": {
    "name": "ipython",
    "version": 3
   },
   "file_extension": ".py",
   "mimetype": "text/x-python",
   "name": "python",
   "nbconvert_exporter": "python",
   "pygments_lexer": "ipython3",
   "version": "3.7.6"
  }
 },
 "nbformat": 4,
 "nbformat_minor": 4
}
